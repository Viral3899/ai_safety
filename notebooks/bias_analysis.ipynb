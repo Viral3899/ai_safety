{
 "cells": [
  {
   "cell_type": "markdown",
   "id": "6e913f27",
   "metadata": {},
   "source": []
  },
  {
   "cell_type": "code",
   "execution_count": null,
   "id": "a6beb103",
   "metadata": {},
   "outputs": [],
   "source": [
    "import sys\n",
    "import os\n",
    "sys.path.append(os.path.join('..', 'src'))\n",
    "\n",
    "import pandas as pd\n",
    "import numpy as np\n",
    "import matplotlib.pyplot as plt\n",
    "import seaborn as sns\n",
    "from typing import Dict, Any, List\n",
    "\n",
    "from safety_system.safety_manager import SafetyManager\n",
    "from evaluation.bias_evaluation import BiasEvaluator\n"
   ]
  },
  {
   "cell_type": "code",
   "execution_count": null,
   "id": "d8f14e86",
   "metadata": {},
   "outputs": [],
   "source": [
    "# Initialize safety manager and bias evaluator\n",
    "safety_manager = SafetyManager()\n",
    "bias_evaluator = BiasEvaluator()\n",
    "\n",
    "print(\"✅ Components initialized successfully\")\n"
   ]
  },
  {
   "cell_type": "code",
   "execution_count": null,
   "id": "c5bb6409",
   "metadata": {},
   "outputs": [],
   "source": [
    "# Run comprehensive bias evaluation\n",
    "bias_results = bias_evaluator.run_bias_evaluation(\n",
    "    model_func=lambda text: safety_manager.analyze(text, \"bias_test\", \"bias_session\")\n",
    ")\n",
    "\n",
    "print(f\"📊 Bias evaluation completed\")\n",
    "print(f\"Categories tested: {len(bias_results['bias_categories'])}\")\n"
   ]
  }
 ],
 "metadata": {
  "language_info": {
   "name": "python"
  }
 },
 "nbformat": 4,
 "nbformat_minor": 5
}
